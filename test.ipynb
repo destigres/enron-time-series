{
 "metadata": {
  "language_info": {
   "codemirror_mode": {
    "name": "ipython",
    "version": 3
   },
   "file_extension": ".py",
   "mimetype": "text/x-python",
   "name": "python",
   "nbconvert_exporter": "python",
   "pygments_lexer": "ipython3",
   "version": "3.7.9-final"
  },
  "orig_nbformat": 2,
  "kernelspec": {
   "name": "python3",
   "display_name": "Python 3",
   "language": "python"
  }
 },
 "nbformat": 4,
 "nbformat_minor": 2,
 "cells": [
  {
   "cell_type": "code",
   "execution_count": 22,
   "metadata": {},
   "outputs": [
    {
     "output_type": "execute_result",
     "data": {
      "text/plain": [
       "[Synset('thromboembolism.n.01')]"
      ]
     },
     "metadata": {},
     "execution_count": 22
    }
   ],
   "source": [
    "from nltk.corpus import wordnet as wn\n",
    "import nltk\n",
    "wn.synsets('thromboembolism')"
   ]
  },
  {
   "cell_type": "code",
   "execution_count": 17,
   "metadata": {},
   "outputs": [
    {
     "output_type": "stream",
     "name": "stderr",
     "text": [
      "Downloading https://raw.githubusercontent.com/stanfordnlp/stanza-resources/master/resources_1.1.0.json: 122kB [00:00, 7.51MB/s]                    \n",
      "2021-01-26 09:24:36 INFO: Downloading these customized packages for language: en (English)...\n",
      "=============================\n",
      "| Processor       | Package |\n",
      "-----------------------------\n",
      "| tokenize        | mimic   |\n",
      "| pos             | mimic   |\n",
      "| lemma           | mimic   |\n",
      "| depparse        | mimic   |\n",
      "| ner             | i2b2    |\n",
      "| pretrain        | mimic   |\n",
      "| backward_charlm | mimic   |\n",
      "| forward_charlm  | mimic   |\n",
      "=============================\n",
      "\n",
      "2021-01-26 09:24:36 INFO: File exists: /Users/matthewtoles/stanza_resources/en/tokenize/mimic.pt.\n",
      "2021-01-26 09:24:36 INFO: File exists: /Users/matthewtoles/stanza_resources/en/pos/mimic.pt.\n",
      "2021-01-26 09:24:36 INFO: File exists: /Users/matthewtoles/stanza_resources/en/lemma/mimic.pt.\n",
      "2021-01-26 09:24:36 INFO: File exists: /Users/matthewtoles/stanza_resources/en/depparse/mimic.pt.\n",
      "Downloading http://nlp.stanford.edu/software/stanza/1.1.0/en/ner/i2b2.pt: 100%|██████████| 123M/123M [03:19<00:00, 619kB/s]\n",
      "2021-01-26 09:27:59 INFO: File exists: /Users/matthewtoles/stanza_resources/en/pretrain/mimic.pt.\n",
      "Downloading http://nlp.stanford.edu/software/stanza/1.1.0/en/backward_charlm/mimic.pt: 100%|██████████| 18.9M/18.9M [00:30<00:00, 614kB/s]\n",
      "Downloading http://nlp.stanford.edu/software/stanza/1.1.0/en/forward_charlm/mimic.pt: 100%|██████████| 18.9M/18.9M [00:31<00:00, 601kB/s]\n",
      "2021-01-26 09:29:06 INFO: Finished downloading models and saved to /Users/matthewtoles/stanza_resources.\n"
     ]
    }
   ],
   "source": [
    "import stanza\n",
    "stanza.download('en', package='mimic', processors={'ner': 'i2b2'})"
   ]
  },
  {
   "cell_type": "code",
   "execution_count": 19,
   "metadata": {},
   "outputs": [
    {
     "output_type": "stream",
     "name": "stderr",
     "text": [
      "2021-01-26 09:56:40 INFO: Loading these models for language: en (English):\n",
      "=======================\n",
      "| Processor | Package |\n",
      "-----------------------\n",
      "| tokenize  | mimic   |\n",
      "| pos       | mimic   |\n",
      "| lemma     | mimic   |\n",
      "| depparse  | mimic   |\n",
      "| ner       | i2b2    |\n",
      "=======================\n",
      "\n",
      "2021-01-26 09:56:40 INFO: Use device: cpu\n",
      "2021-01-26 09:56:40 INFO: Loading: tokenize\n",
      "2021-01-26 09:56:40 INFO: Loading: pos\n",
      "2021-01-26 09:56:41 INFO: Loading: lemma\n",
      "2021-01-26 09:56:41 INFO: Loading: depparse\n",
      "2021-01-26 09:56:43 INFO: Loading: ner\n",
      "2021-01-26 09:56:44 INFO: Done loading processors!\n"
     ]
    }
   ],
   "source": [
    "memo = \"Anna shows minimal treatment response as of today. Anna continues to exhibit symptoms of a generalized anxiety disorder. Symptoms continue the same in frequency and intensity, and no significant improvement is noted. Symptoms of this disorder occur more days than not. Sleep difficulty continues unchanged. Feelings of increased muscular tension across neck and shoulders continue unchanged. Anna describes feeling irritable. Continuing difficulty concentrating is described. Feelings of fatigue are described as continuing unchanged. \"\n",
    "\n",
    "nlp = stanza.Pipeline('en', package='mimic', processors={'ner': 'i2b2'})\n",
    "doc = nlp(memo)\n"
   ]
  },
  {
   "cell_type": "code",
   "execution_count": 21,
   "metadata": {},
   "outputs": [
    {
     "output_type": "stream",
     "name": "stdout",
     "text": [
      "symptoms\tPROBLEM\na generalized anxiety disorder\tPROBLEM\nSymptoms\tPROBLEM\nSymptoms\tPROBLEM\nthis disorder\tPROBLEM\nSleep difficulty\tPROBLEM\nincreased muscular tension across neck and shoulders\tPROBLEM\nirritable\tPROBLEM\nfatigue\tPROBLEM\n"
     ]
    }
   ],
   "source": [
    "for ent in doc.entities:\n",
    "    print(f'{ent.text}\\t{ent.type}')"
   ]
  }
 ]
}